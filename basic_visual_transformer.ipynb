{
  "nbformat": 4,
  "nbformat_minor": 0,
  "metadata": {
    "colab": {
      "provenance": []
    },
    "kernelspec": {
      "name": "python3",
      "display_name": "Python 3"
    },
    "language_info": {
      "name": "python"
    }
  },
  "cells": [
    {
      "cell_type": "code",
      "execution_count": 75,
      "metadata": {
        "colab": {
          "base_uri": "https://localhost:8080/",
          "height": 282
        },
        "id": "mHTeUlReR84c",
        "outputId": "b4c40706-afe7-4020-eabd-1d53250f4c89"
      },
      "outputs": [
        {
          "output_type": "stream",
          "name": "stdout",
          "text": [
            "torch.Size([128, 1, 28, 28]) torch.Size([128])\n"
          ]
        },
        {
          "output_type": "display_data",
          "data": {
            "text/plain": [
              "<Figure size 432x288 with 1 Axes>"
            ],
            "image/png": "[encoded data removed]"
          },
          "metadata": {
            "needs_background": "light"
          }
        }
      ],
      "source": [
        "import torch\n",
        "from torchvision import datasets\n",
        "import tqdm\n",
        "from torchvision.transforms import ToTensor\n",
        "import matplotlib.pyplot as plt\n",
        "import numpy as np\n",
        "from torch.utils.data import DataLoader\n",
        "\n",
        "training_data = datasets.MNIST(root=\"data\", train=True, download=True, transform=ToTensor())\n",
        "test_data = datasets.MNIST(root=\"data\", train=False, download=True, transform=ToTensor())\n",
        "\n",
        "train_loader = DataLoader(training_data, shuffle = True, batch_size = 128)\n",
        "test_loader = DataLoader(test_data, shuffle = False, batch_size = 128)\n",
        "for i in train_loader:\n",
        "    print(i[0].shape, i[1].shape)\n",
        "    plt.imshow(i[0][0].squeeze(0))\n",
        "    break"
      ]
    },
    {
      "cell_type": "code",
      "source": [
        "from torch import nn\n",
        "from einops import rearrange, repeat\n",
        "from einops.layers.torch import Rearrange\n",
        "class MSA101(nn.Module):\n",
        "    def __init__(self, d, n_heads=2):\n",
        "        super(MSA101, self).__init__()\n",
        "        self.d = d\n",
        "        self.n_heads = n_heads\n",
        "\n",
        "        assert d % n_heads == 0, f\"Can't divide dimension {d} into {n_heads} heads\"\n",
        "\n",
        "        d_head = int(d / n_heads)\n",
        "        self.q_mappings = nn.ModuleList([nn.Linear(d_head, d_head) for _ in range(self.n_heads)])\n",
        "        self.k_mappings = nn.ModuleList([nn.Linear(d_head, d_head) for _ in range(self.n_heads)])\n",
        "        self.v_mappings = nn.ModuleList([nn.Linear(d_head, d_head) for _ in range(self.n_heads)])\n",
        "        self.d_head = d_head\n",
        "        self.softmax = nn.Softmax(dim=-1)\n",
        "\n",
        "    def forward(self, sequences):\n",
        "        # Sequences has shape (N, seq_length, token_dim)\n",
        "        # We go into shape    (N, seq_length, n_heads, token_dim / n_heads)\n",
        "        # And come back to    (N, seq_length, item_dim)  (through concatenation)\n",
        "        result = []\n",
        "        for sequence in sequences:\n",
        "            seq_result = []\n",
        "            for head in range(self.n_heads):\n",
        "                q_mapping = self.q_mappings[head]\n",
        "                k_mapping = self.k_mappings[head]\n",
        "                v_mapping = self.v_mappings[head]\n",
        "\n",
        "                seq = sequence[:, head * self.d_head: (head + 1) * self.d_head]\n",
        "                q, k, v = q_mapping(seq), k_mapping(seq), v_mapping(seq)\n",
        "\n",
        "                attention = self.softmax(q @ k.T / (self.d_head ** 0.5))\n",
        "                seq_result.append(attention @ v)\n",
        "            result.append(torch.hstack(seq_result))\n",
        "        return torch.cat([torch.unsqueeze(r, dim=0) for r in result])\n",
        "\n",
        "class ViTBlock(nn.Module):\n",
        "    def __init__(self, hidden_d, n_heads, mlp_ratio=4):\n",
        "        super(ViTBlock, self).__init__()\n",
        "        self.hidden_d = hidden_d\n",
        "        self.n_heads = n_heads\n",
        "\n",
        "        self.norm1 = nn.LayerNorm(hidden_d)\n",
        "        self.mhsa = MSA101(hidden_d, n_heads)\n",
        "        self.norm2 = nn.LayerNorm(hidden_d)\n",
        "        self.mlp = nn.Sequential(\n",
        "            nn.Linear(hidden_d, mlp_ratio * hidden_d),\n",
        "            nn.GELU(),\n",
        "            nn.Linear(mlp_ratio * hidden_d, hidden_d)\n",
        "        )\n",
        "\n",
        "    def forward(self, x):\n",
        "        out = x + self.mhsa(self.norm1(x))\n",
        "        out = out + self.mlp(self.norm2(out))\n",
        "        return out\n",
        "\n",
        "class ViT101(nn.Module):\n",
        "    def __init__(self, chw = (1,28,28), patch_size = 4, hidden_d = 8, n_blocks=2, n_heads=2, out_d=10):\n",
        "        super(ViT101, self).__init__()\n",
        "        self.chw = chw\n",
        "        self.hidden_d = hidden_d\n",
        "        self.patch_size = patch_size\n",
        "        self.input_d = chw[0] * patch_size * patch_size\n",
        "    \n",
        "        assert chw[1]==chw[2], 'please square img'\n",
        "        assert chw[1] % patch_size == 0 and chw[2] % patch_size == 0, 'h and w should be divisible by patch_size'\n",
        "\n",
        "        num_patches = (self.chw[1] // self.patch_size) * (self.chw[2] // self.patch_size)\n",
        "        # patchify\n",
        "        self.to_patch = nn.Sequential(Rearrange('b c (h p1) (w p2) -> b (h w) (p1 p2 c)', p1 = patch_size, p2 = patch_size))    \n",
        "        # linear mapping\n",
        "        self.linear_mapper = nn.Linear(self.input_d, self.hidden_d)\n",
        "        # classification tokens\n",
        "        self.cls_token = nn.Parameter(torch.randn(1, 1, self.hidden_d))\n",
        "        # position embeddings\n",
        "        self.pos_embedding = nn.Parameter(torch.randn(1, num_patches + 1, self.hidden_d))\n",
        "        # create meat\n",
        "        self.blocks = nn.ModuleList([ViTBlock(hidden_d, n_heads) for _ in range(n_blocks)])\n",
        "        # classificate\n",
        "        self.mlp = nn.Sequential(\n",
        "            nn.Linear(self.hidden_d, out_d),\n",
        "            nn.Softmax(dim=-1)\n",
        "        )\n",
        "\n",
        "    def forward(self, x):\n",
        "        x = self.to_patch(x)\n",
        "        b, n, _ = x.shape\n",
        "        x = self.linear_mapper(x)\n",
        "        cls_tokens = repeat(self.cls_token, '() n d -> b n d', b = b)\n",
        "        x = torch.cat((cls_tokens, x), dim=1)\n",
        "        x += self.pos_embedding[:, :(n + 1)]\n",
        "        for block in self.blocks:\n",
        "            out = block(x)\n",
        "        # Getting the classification token only\n",
        "        out = out[:, 0]\n",
        "        \n",
        "        return self.mlp(out) "
      ],
      "metadata": {
        "id": "HD-gqhK2dh5x",
        "colab": {
          "base_uri": "https://localhost:8080/"
        },
        "outputId": "a129ad06-98ae-4480-f5a8-ff7c24aed77f"
      },
      "execution_count": 68,
      "outputs": [
        {
          "output_type": "stream",
          "name": "stdout",
          "text": [
            "torch.Size([128, 10])\n"
          ]
        }
      ]
    },
    {
      "cell_type": "code",
      "source": [
        "model = ViT101()\n",
        "optimizer = torch.optim.Adam(model.parameters(), lr = 1e-3)\n",
        "criterion = torch.nn.CrossEntropyLoss()\n",
        "device = torch.device('cuda' if torch.cuda.is_available() else 'cpu')\n",
        "model = model.to(device)\n",
        "epochs = 5\n",
        "for epoch in range(1,epochs+1):\n",
        "    train_loss = 0\n",
        "    model.train()\n",
        "    for (images, labels) in train_loader:\n",
        "        images, labels = images.to(device), labels.to(device)\n",
        "        p_labels = model(images)\n",
        "        loss = criterion(p_labels, labels)\n",
        "        train_loss += loss.detach().cpu().item()\n",
        "        optimizer.zero_grad()\n",
        "        loss.backward()\n",
        "        optimizer.step()\n",
        "    print (f'epoch: {epoch} train loss: {train_loss/len(train_loader)}')\n",
        "\n",
        "    test_loss = 0\n",
        "    model.eval()\n",
        "    correct = 0\n",
        "    with torch.no_grad():\n",
        "        for (images, labels) in test_loader:\n",
        "            images, labels = images.to(device), labels.to(device)\n",
        "            p_labels = model(images)\n",
        "            loss = criterion(p_labels, labels)\n",
        "            test_loss += loss.detach().cpu().item()\n",
        "            pred = p_labels.argmax(dim=1, keepdim=True) \n",
        "            correct += pred.eq(labels.view_as(pred)).sum().item()\n",
        "    print (f'epoch: {epoch} test loss: {test_loss/len(test_loader)} accuracy: {correct/len(test_loader)}')"
      ],
      "metadata": {
        "id": "jY2IUALTTaGX",
        "colab": {
          "base_uri": "https://localhost:8080/"
        },
        "outputId": "efbe2dda-f244-4db6-ab41-ce80fe7b6ec6"
      },
      "execution_count": 74,
      "outputs": [
        {
          "output_type": "stream",
          "name": "stdout",
          "text": [
            "epoch: 1 train loss: 2.1768749299079877\n",
            "epoch: 1 test loss: 2.036287153823466 accuracy: 54.43037974683544\n",
            "epoch: 2 train loss: 1.9646807049891588\n",
            "epoch: 2 test loss: 1.8766154790226417 accuracy: 75.78481012658227\n",
            "epoch: 3 train loss: 1.8468450229051017\n",
            "epoch: 3 test loss: 1.8013120587868026 accuracy: 83.9873417721519\n",
            "epoch: 4 train loss: 1.8045040973976476\n",
            "epoch: 4 test loss: 1.7768752152406717 accuracy: 87.0379746835443\n",
            "epoch: 5 train loss: 1.781542129862283\n",
            "epoch: 5 test loss: 1.7602002560337888 accuracy: 89.0253164556962\n"
          ]
        }
      ]
    }
  ]
}